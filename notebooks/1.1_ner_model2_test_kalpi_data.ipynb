{
 "cells": [
  {
   "cell_type": "code",
   "execution_count": 1,
   "id": "a3a0b68f",
   "metadata": {},
   "outputs": [],
   "source": [
    "import spacy\n",
    "import pickle \n",
    "import random\n",
    "from tqdm.notebook import tqdm\n",
    "from spacy.util import minibatch, compounding\n",
    "from spacy.tokens import DocBin"
   ]
  },
  {
   "cell_type": "markdown",
   "id": "5367a3af",
   "metadata": {},
   "source": [
    "NER Model taken from:\n",
    "https://github.com/OmkarPathak/pyresparser"
   ]
  },
  {
   "cell_type": "code",
   "execution_count": 2,
   "id": "88e85999",
   "metadata": {},
   "outputs": [],
   "source": [
    "import os"
   ]
  },
  {
   "cell_type": "code",
   "execution_count": 3,
   "id": "cb20c305",
   "metadata": {},
   "outputs": [
    {
     "name": "stdout",
     "output_type": "stream",
     "text": [
      "\u001b[2K\u001b[38;5;2m✔ Loaded compatibility table\u001b[0m\n",
      "\u001b[1m\n",
      "====================== Installed models (spaCy v2.3.5) ======================\u001b[0m\n",
      "\u001b[38;5;4mℹ spaCy installation:\n",
      "/Users/ashish1610dhiman/opt/anaconda3/envs/resume_parser/lib/python3.9/site-packages/spacy\u001b[0m\n",
      "\n",
      "TYPE      NAME             MODEL            VERSION                            \n",
      "package   en-core-web-sm   en_core_web_sm   \u001b[38;5;2m2.3.1\u001b[0m   \u001b[38;5;2m✔\u001b[0m\n",
      "\n"
     ]
    }
   ],
   "source": [
    "!python -m spacy validate"
   ]
  },
  {
   "cell_type": "markdown",
   "id": "c8dd7d10",
   "metadata": {},
   "source": [
    "### Load model"
   ]
  },
  {
   "cell_type": "code",
   "execution_count": 4,
   "id": "6c434f86",
   "metadata": {},
   "outputs": [
    {
     "name": "stderr",
     "output_type": "stream",
     "text": [
      "/Users/ashish1610dhiman/opt/anaconda3/envs/resume_parser/lib/python3.9/site-packages/spacy/util.py:275: UserWarning: [W031] Model 'en_training' (0.0.0) requires spaCy v2.1 and is incompatible with the current spaCy version (2.3.5). This may lead to unexpected results or runtime errors. To resolve this, download a newer compatible model or retrain your custom model with the current spaCy version. For more details and available updates, run: python -m spacy validate\n",
      "  warnings.warn(warn_msg)\n"
     ]
    }
   ],
   "source": [
    "model = spacy.load(\"../models/pyresparser\")"
   ]
  },
  {
   "cell_type": "markdown",
   "id": "e72a85ad",
   "metadata": {},
   "source": [
    "### read test data, and parse ents"
   ]
  },
  {
   "cell_type": "code",
   "execution_count": 5,
   "id": "95e678c0",
   "metadata": {},
   "outputs": [
    {
     "name": "stdout",
     "output_type": "stream",
     "text": [
      "2020PGP003_SOUJANYA_ABBARAJU.txt\n",
      "---------------------------------------\n",
      "Name ==== Abbaraju Soujanya\n",
      "Years of Experience ==== 23 years\n",
      "Degree ==== B.Tech\n",
      "Location ==== Hyderabad\n",
      "Designation ==== Wizard Curriculum\n",
      "Companies worked at ==== Levell Group\n",
      "Companies worked at ==== Citicorp Services India Pvt Ltd Applications Analyst Programmer\n",
      "Companies worked at ==== Microsoft\n",
      "---------------------------------------\n",
      "\n",
      "Vijay_Lather_BT_ME_170790.txt\n",
      "---------------------------------------\n",
      "Name ==== VIJAY LATHER Senior Undergraduate Email\n",
      "Location ==== Phone\n",
      "---------------------------------------\n",
      "\n",
      "Prateek_Varshney_BT_CSE_170494.txt\n",
      "---------------------------------------\n",
      "Name ==== Prateek Varshney Indian Institute of Technology Kanpur\n",
      "Years of Experience ==== 9868588504\n",
      "Location ==== Pasadena\n",
      "---------------------------------------\n",
      "\n",
      "2020PGP427_SOURAV_TRIPATHY.txt\n",
      "---------------------------------------\n",
      "Name ==== as Sourav Tripathy\n",
      "Years of Experience ==== 23 years\n",
      "College Name ==== National Institute of Technology\n",
      "---------------------------------------\n",
      "\n",
      "Apoorva_Singh_dual_MTH_16817144.txt\n",
      "---------------------------------------\n",
      "Name ==== APOORVA SINGH\n",
      "Email Address ==== 9.0/10\n",
      "Years of Experience ==== 6.9/10 2016\n",
      "Companies worked at ==== Schlumberger Pune India Technology Centre\n",
      "Designation ==== Technical Content Creator May’20 — Jul’20 e Mentored over 200 students in their pre-final and final year of various colleges across India online on data structures Responsibilities e Coordinated with the design team to create content for data structures and algorithms to be used in the online classes e Conducted one-on-one mock interview (coding) sessions with the students and gave them personalised feedback PROJECTS e Order Estimation of Complex Sinusoidal Signal Processing Models — MS Project (Prof. Amit Mitra, IIT Kanpur) ongoing e Case Study of the Ola Pedal Initiative\n",
      "Designation ==== e Curriculum Learning\n",
      "Skills ==== C, C++, Python, Java, SQL Software & Libraries — MATLAB, LaTeX, Pandas, NumPy, Scikit-Learn, TensorFlow, OpenCV POSITION OF RESPONSIBILITY Overall Placement Coordinator, Students’ Placement Office, IIT Kanpur Mar’19 — Mar’20 Lead a 4-tier team of 140 members to facilitate placement and internship for 1100+ and 650+ students respectively Leadershi . . _ : . . . 1 pe P Represented the students’ interest in all administrative decisions related to recruitment and internship drive in the SPC e Single-handedly liaised with 150+ corporate firms comprising of leading BFSI, analytics, software, and core companies Initiative e Introduced a limit on the number of student applications to 50, leading to a reduced number of clashes during interviews e Revamped the Preparation Portal, providing 100+ interview insights and recruitment procedure of 400+ companies e Attained 25.8% YoY growth in number of internship selections, registering 100+ offers on day 1 of the internship drive Impact e Recorded the all-time highest number of offers (1084) made to students in the first phase of placement drive 2019-20\n",
      "---------------------------------------\n",
      "\n",
      "2020PGP164_HARSHITA_MISHRA.txt\n",
      "---------------------------------------\n",
      "Name ==== ah Harshita Mishra\n",
      "Years of Experience ==== 22 years\n",
      "Location ==== Patna\n",
      "Location ==== Hyderabad\n",
      "---------------------------------------\n",
      "\n",
      "2020PGP441_HARSHA_SURAPANENI.txt\n",
      "---------------------------------------\n",
      "Name ==== ah Harsha Surapaneni\n",
      "Years of Experience ==== 22 years\n",
      "Location ==== Hyderabad\n",
      "Location ==== Hyderabad\n",
      "Location ==== Olympiad\n",
      "Location ==== Kolkata\n",
      "---------------------------------------\n",
      "\n",
      "Vani_Chaturvedi_dual_ES_16817771.txt\n",
      "---------------------------------------\n",
      "Name ==== VANI CHAT\n",
      "Designation ==== VEDI\n",
      "Skills ==== C,C++, HTML, CSS | Operating Systems: Windows, Linux\n",
      "---------------------------------------\n",
      "\n",
      "2020PGP024_AKSHAT_VARMA.txt\n",
      "---------------------------------------\n",
      "Name ==== an Akshat Varma\n",
      "Years of Experience ==== 24 years\n",
      "Location ==== Thane\n",
      "Location ==== Kolkata\n",
      "---------------------------------------\n",
      "\n",
      "Rishank_Ranjan_Singh_dual_CE_16807571.txt\n",
      "---------------------------------------\n",
      "Name ==== Rishank Ranj an Singh Email\n",
      "Degree ==== e To create Deep Learning Models using Tensor Flow for\n",
      "---------------------------------------\n",
      "\n"
     ]
    }
   ],
   "source": [
    "for file_name in os.listdir(\"../data/kalpit_test_data/\"):\n",
    "    print (file_name)\n",
    "    file_text = open(\"../data/kalpit_test_data/\"+file_name,\"r\").read()\n",
    "    file_text1 = \" \".join(file_text.split(\"\\n\"))\n",
    "    #Parse Resume\n",
    "    doc = model(file_text1)\n",
    "    print (\"---------------------------------------\")\n",
    "    for ent in doc.ents:\n",
    "        print (f'{ent.label_} ==== {ent.text}')\n",
    "    print (\"---------------------------------------\\n\")"
   ]
  }
 ],
 "metadata": {
  "kernelspec": {
   "display_name": "Python 3 (ipykernel)",
   "language": "python",
   "name": "python3"
  },
  "language_info": {
   "codemirror_mode": {
    "name": "ipython",
    "version": 3
   },
   "file_extension": ".py",
   "mimetype": "text/x-python",
   "name": "python",
   "nbconvert_exporter": "python",
   "pygments_lexer": "ipython3",
   "version": "3.9.6"
  }
 },
 "nbformat": 4,
 "nbformat_minor": 5
}
