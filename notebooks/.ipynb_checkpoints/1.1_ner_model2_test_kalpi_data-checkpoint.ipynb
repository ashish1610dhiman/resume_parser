{
 "cells": [
  {
   "cell_type": "code",
   "execution_count": 2,
   "id": "a3a0b68f",
   "metadata": {},
   "outputs": [],
   "source": [
    "import spacy\n",
    "import pickle \n",
    "import random\n",
    "from tqdm.notebook import tqdm\n",
    "from spacy.util import minibatch, compounding\n",
    "from spacy.tokens import DocBin"
   ]
  },
  {
   "cell_type": "code",
   "execution_count": 6,
   "id": "88e85999",
   "metadata": {},
   "outputs": [],
   "source": [
    "import os"
   ]
  },
  {
   "cell_type": "code",
   "execution_count": 5,
   "id": "cb20c305",
   "metadata": {},
   "outputs": [
    {
     "name": "stdout",
     "output_type": "stream",
     "text": [
      "\u001b[2K\u001b[38;5;2m✔ Loaded compatibility table\u001b[0m\n",
      "\u001b[1m\n",
      "====================== Installed models (spaCy v2.3.5) ======================\u001b[0m\n",
      "\u001b[38;5;4mℹ spaCy installation:\n",
      "/Users/ashish1610dhiman/opt/anaconda3/envs/resume_parser/lib/python3.9/site-packages/spacy\u001b[0m\n",
      "\n",
      "TYPE      NAME             MODEL            VERSION                            \n",
      "package   en-core-web-sm   en_core_web_sm   \u001b[38;5;2m2.3.1\u001b[0m   \u001b[38;5;2m✔\u001b[0m\n",
      "\n"
     ]
    }
   ],
   "source": [
    "!python -m spacy validate"
   ]
  },
  {
   "cell_type": "markdown",
   "id": "c8dd7d10",
   "metadata": {},
   "source": [
    "### Load model"
   ]
  },
  {
   "cell_type": "code",
   "execution_count": 3,
   "id": "6c434f86",
   "metadata": {},
   "outputs": [
    {
     "name": "stderr",
     "output_type": "stream",
     "text": [
      "/Users/ashish1610dhiman/opt/anaconda3/envs/resume_parser/lib/python3.9/site-packages/spacy/util.py:275: UserWarning: [W031] Model 'en_model' (0.0.0) requires spaCy v2.2 and is incompatible with the current spaCy version (2.3.5). This may lead to unexpected results or runtime errors. To resolve this, download a newer compatible model or retrain your custom model with the current spaCy version. For more details and available updates, run: python -m spacy validate\n",
      "  warnings.warn(warn_msg)\n"
     ]
    }
   ],
   "source": [
    "model = spacy.load(\"../models/nlp_model\")"
   ]
  },
  {
   "cell_type": "markdown",
   "id": "e72a85ad",
   "metadata": {},
   "source": [
    "### read test data, and parse ents"
   ]
  },
  {
   "cell_type": "code",
   "execution_count": 19,
   "id": "95e678c0",
   "metadata": {},
   "outputs": [
    {
     "name": "stdout",
     "output_type": "stream",
     "text": [
      "2020PGP003_SOUJANYA_ABBARAJU.txt\n",
      "---------------------------------------\n",
      "Name ==== Abbaraju Soujanya\n",
      "Location ==== Hyderabad\n",
      "---------------------------------------\n",
      "\n",
      "Vijay_Lather_BT_ME_170790.txt\n",
      "---------------------------------------\n",
      "Name ==== VIJAY LATHER\n",
      "Designation ==== Senior Undergraduate Email : vijayla@iitk.ac.in Department of Mechanical Engineering Phone\n",
      "Designation ==== Indian Institute of Technology\n",
      "---------------------------------------\n",
      "\n",
      "Prateek_Varshney_BT_CSE_170494.txt\n",
      "---------------------------------------\n",
      "Name ==== Prateek Varshney\n",
      "Designation ==== Indian Institute of Technology Kanpur\n",
      "Designation ==== Institute of Technology Kanpur Kanpur\n",
      "---------------------------------------\n",
      "\n",
      "2020PGP427_SOURAV_TRIPATHY.txt\n",
      "---------------------------------------\n",
      "Name ==== as Sourav\n",
      "Designation ==== Saraswati Vidya Mandir\n",
      "College Name ==== National Institute of Technology, Rourkela\n",
      "---------------------------------------\n",
      "\n",
      "Apoorva_Singh_dual_MTH_16817144.txt\n",
      "---------------------------------------\n",
      "Name ==== APOORVA SINGH\n",
      "Designation ==== % singh.apoorva.0803@gmail.com\n",
      "Location ==== Pune\n",
      "---------------------------------------\n",
      "\n",
      "2020PGP164_HARSHITA_MISHRA.txt\n",
      "---------------------------------------\n",
      "Name ==== ah Harshita\n",
      "Location ==== B.A. Honours\n",
      "Location ==== Hyderabad\n",
      "---------------------------------------\n",
      "\n",
      "2020PGP441_HARSHA_SURAPANENI.txt\n",
      "---------------------------------------\n",
      "Name ==== ah Harsha\n",
      "Designation ==== Surapaneni ww Male, 22 years\n",
      "Companies worked at ==== Narayana Junior\n",
      "---------------------------------------\n",
      "\n",
      "Vani_Chaturvedi_dual_ES_16817771.txt\n",
      "---------------------------------------\n",
      "Name ==== VANI CHAT\n",
      "Designation ==== Indian Institute of Technology Kanpur 8.0/10\n",
      "Designation ==== Indian Institute of Technology Kanpur\n",
      "---------------------------------------\n",
      "\n",
      "2020PGP024_AKSHAT_VARMA.txt\n",
      "---------------------------------------\n",
      "Name ==== an Akshat\n",
      "Designation ==== MBA Indian Institute of Management\n",
      "---------------------------------------\n",
      "\n",
      "Rishank_Ranjan_Singh_dual_CE_16807571.txt\n",
      "---------------------------------------\n",
      "Name ==== Rishank Ranj\n",
      "Designation ==== Indian Instlinte\n",
      "---------------------------------------\n",
      "\n"
     ]
    }
   ],
   "source": [
    "for file_name in os.listdir(\"../data/kalpit_test_data/\"):\n",
    "    print (file_name)\n",
    "    file_text = open(\"../data/kalpit_test_data/\"+file_name,\"r\").read()\n",
    "    file_text1 = \" \".join(file_text.split(\"\\n\"))\n",
    "    #Parse Resume\n",
    "    doc = model(file_text1)\n",
    "    print (\"---------------------------------------\")\n",
    "    for ent in doc.ents:\n",
    "        print (f'{ent.label_} ==== {ent.text}')\n",
    "    print (\"---------------------------------------\\n\")"
   ]
  }
 ],
 "metadata": {
  "kernelspec": {
   "display_name": "Python 3 (ipykernel)",
   "language": "python",
   "name": "python3"
  },
  "language_info": {
   "codemirror_mode": {
    "name": "ipython",
    "version": 3
   },
   "file_extension": ".py",
   "mimetype": "text/x-python",
   "name": "python",
   "nbconvert_exporter": "python",
   "pygments_lexer": "ipython3",
   "version": "3.9.6"
  }
 },
 "nbformat": 4,
 "nbformat_minor": 5
}
